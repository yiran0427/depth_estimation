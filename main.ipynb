{
 "cells": [
  {
   "cell_type": "markdown",
   "metadata": {
    "id": "H3OUui-R21La"
   },
   "source": [
    "# Self-Supervised Monocular Depth Estimation"
   ]
  },
  {
   "cell_type": "code",
   "execution_count": 1,
   "metadata": {},
   "outputs": [],
   "source": [
    "from dataloader import KittiDataset\n",
    "from transformation import ToResizeImage, ToRandomFlip, ToTensor, AugumentImagePair\n",
    "from model import Model\n",
    "\n",
    "import torch\n",
    "from torch.utils.data import DataLoader\n",
    "\n",
    "import os\n",
    "import numpy as np\n",
    "import random\n",
    "import skimage.transform\n",
    "import matplotlib.pyplot as plt\n",
    "import torchvision.transforms as transforms\n",
    "import torchvision.transforms.functional as tF"
   ]
  },
  {
   "cell_type": "markdown",
   "metadata": {
    "id": "-u0wgdb-3Mrq"
   },
   "source": [
    "## Data Loading"
   ]
  },
  {
   "cell_type": "code",
   "execution_count": 2,
   "metadata": {},
   "outputs": [],
   "source": [
    "train_path = os.path.join(os.getcwd(), 'data/train')\n",
    "test_path = os.path.join(os.getcwd(), 'data/test')"
   ]
  },
  {
   "cell_type": "code",
   "execution_count": 3,
   "metadata": {},
   "outputs": [],
   "source": [
    "train_transform = transforms.Compose([\n",
    "    ToResizeImage(),\n",
    "    ToRandomFlip(),\n",
    "    ToTensor(),\n",
    "    AugumentImagePair(),\n",
    "])\n",
    "test_transform = transforms.Compose([\n",
    "    ToResizeImage(),\n",
    "    ToTensor(),\n",
    "])"
   ]
  },
  {
   "cell_type": "code",
   "execution_count": 4,
   "metadata": {},
   "outputs": [],
   "source": [
    "train_set = KittiDataset(train_path, 'train', transform = train_transform)\n",
    "test_set = KittiDataset(test_path, 'test', transform = test_transform)\n",
    "\n",
    "train_loader = DataLoader(train_set, batch_size = 5, shuffle = True)\n",
    "test_loader = DataLoader(test_set, batch_size = 77, shuffle = False)"
   ]
  },
  {
   "cell_type": "markdown",
   "metadata": {},
   "source": [
    "## Implement CNN using PyTorch"
   ]
  },
  {
   "cell_type": "code",
   "execution_count": 14,
   "metadata": {},
   "outputs": [],
   "source": [
    "model = Model(train_loader=train_loader,\n",
    "              test_loader=test_loader,\n",
    "              device='cpu', \n",
    "              epochs=5, \n",
    "              save_per_epoch=10, \n",
    "              img_height=256, \n",
    "              img_width=512, \n",
    "              model_path='output_model', \n",
    "              disp_path='output_disp')"
   ]
  },
  {
   "cell_type": "code",
   "execution_count": 15,
   "metadata": {},
   "outputs": [
    {
     "name": "stdout",
     "output_type": "stream",
     "text": [
      "--- Epoch 0\tAverage Loss: 1.37\tTime: 0:00:42.932802\n"
     ]
    }
   ],
   "source": [
    "loss = model.train()"
   ]
  },
  {
   "cell_type": "code",
   "execution_count": 16,
   "metadata": {},
   "outputs": [
    {
     "name": "stdout",
     "output_type": "stream",
     "text": [
      "[1.36610976 1.29185891 1.23290664 1.19710014 1.17669435]\n"
     ]
    },
    {
     "data": {
      "image/png": "[encoded data removed]",
      "text/plain": [
       "<Figure size 864x432 with 1 Axes>"
      ]
     },
     "metadata": {
      "needs_background": "light"
     },
     "output_type": "display_data"
    }
   ],
   "source": [
    "fig = plt.figure(figsize=(12,6)) \n",
    "plt.subplots_adjust(bottom=0.2,right=0.85,top=0.95) \n",
    "ax = fig.add_subplot(1,1,1)\n",
    "\n",
    "loss = np.array(loss)\n",
    "\n",
    "ax.clear() \n",
    "ax.set_xlabel('iterations') \n",
    "ax.set_ylabel('loss value') \n",
    "ax.set_title('Training loss curve') \n",
    "ax.plot(loss, label='training loss') \n",
    "ax.legend(loc='upper right') \n",
    "fig.canvas.draw() "
   ]
  },
  {
   "cell_type": "code",
   "execution_count": null,
   "metadata": {},
   "outputs": [],
   "source": [
    "model.test('output_model/0.pt')"
   ]
  },
  {
   "cell_type": "code",
   "execution_count": null,
   "metadata": {
    "scrolled": true
   },
   "outputs": [],
   "source": [
    "# plot original image, disparity, and disparity with post-processing\n",
    "test_size = len(test_loader.dataset)\n",
    "\n",
    "idx = random.randint(0, test_size)\n",
    "\n",
    "for data in test_loader:\n",
    "    img = data['left_image'][idx].permute(1,2,0)\n",
    "\n",
    "disp = np.load('output_disp/disparities.npy')\n",
    "disp_pp = np.load('output_disp/disparities_pp.npy')\n",
    "\n",
    "disp_to_img = skimage.transform.resize(disp[idx].squeeze(), [256, 512], mode='constant')\n",
    "disp_pp_to_img = skimage.transform.resize(disp_pp[idx].squeeze(), [256, 512], mode='constant')\n",
    "\n",
    "fig = plt.figure(figsize=(16, 12))\n",
    "\n",
    "ax = fig.add_subplot(1,3,1)\n",
    "plt.title('original sample ' + str(idx))\n",
    "plt.imshow(img, cmap='plasma')\n",
    "\n",
    "ax = fig.add_subplot(1,3,2)\n",
    "plt.title('disparity without post-processing')\n",
    "plt.imshow(disp_to_img, cmap='plasma')\n",
    "\n",
    "ax = fig.add_subplot(1,3,3)\n",
    "plt.title('disparity with post-processing')\n",
    "plt.imshow(disp_pp_to_img, cmap='plasma')"
   ]
  },
  {
   "cell_type": "code",
   "execution_count": null,
   "metadata": {},
   "outputs": [],
   "source": []
  },
  {
   "cell_type": "code",
   "execution_count": null,
   "metadata": {},
   "outputs": [],
   "source": []
  }
 ],
 "metadata": {
  "colab": {
   "name": "model.ipynb",
   "provenance": []
  },
  "kernelspec": {
   "display_name": "Python 3",
   "language": "python",
   "name": "python3"
  },
  "language_info": {
   "codemirror_mode": {
    "name": "ipython",
    "version": 3
   },
   "file_extension": ".py",
   "mimetype": "text/x-python",
   "name": "python",
   "nbconvert_exporter": "python",
   "pygments_lexer": "ipython3",
   "version": "3.9.0"
  }
 },
 "nbformat": 4,
 "nbformat_minor": 1
}
