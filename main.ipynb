{
 "cells": [
  {
   "cell_type": "markdown",
   "metadata": {
    "id": "H3OUui-R21La"
   },
   "source": [
    "# Self-Supervised Monocular Depth Estimation"
   ]
  },
  {
   "cell_type": "code",
   "execution_count": 1,
   "metadata": {},
   "outputs": [],
   "source": [
    "from dataloader import KittiDataset\n",
    "from transformation import ToResizeImage, ToRandomFlip, ToTensor, AugumentImagePair\n",
    "from model import Model\n",
    "\n",
    "import torch\n",
    "from torch.utils.data import DataLoader\n",
    "\n",
    "import os\n",
    "import random\n",
    "import torchvision.transforms as transforms\n",
    "import torchvision.transforms.functional as tF"
   ]
  },
  {
   "cell_type": "markdown",
   "metadata": {
    "id": "-u0wgdb-3Mrq"
   },
   "source": [
    "## Data Loading"
   ]
  },
  {
   "cell_type": "code",
   "execution_count": 2,
   "metadata": {},
   "outputs": [],
   "source": [
    "train_path = os.path.join(os.getcwd(), \"data/train\")\n",
    "test_path = os.path.join(os.getcwd(), 'data/test')"
   ]
  },
  {
   "cell_type": "code",
   "execution_count": 3,
   "metadata": {},
   "outputs": [],
   "source": [
    "train_transform = transforms.Compose([\n",
    "    ToResizeImage(),\n",
    "    ToRandomFlip(),\n",
    "    ToTensor(),\n",
    "    AugumentImagePair(),\n",
    "])\n",
    "test_transform = transforms.Compose([\n",
    "    ToResizeImage(),\n",
    "    ToTensor(),\n",
    "])"
   ]
  },
  {
   "cell_type": "code",
   "execution_count": 4,
   "metadata": {},
   "outputs": [],
   "source": [
    "train_set = KittiDataset(train_path, 'train', transform = train_transform)\n",
    "test_set = KittiDataset(test_path, 'test', transform = test_transform)\n",
    "\n",
    "train_loader = DataLoader(train_set, batch_size = 5, shuffle = True)\n",
    "test_loader = DataLoader(test_set, batch_size = 3, shuffle = False)\n",
    "\n",
    "# for batch_step, batch_sample in enumerate(train_loader):\n",
    "#     print(batch_step, batch_sample['left_image'].shape)\n",
    "#     break  "
   ]
  },
  {
   "cell_type": "markdown",
   "metadata": {},
   "source": [
    "## Implement CNN using PyTorch"
   ]
  },
  {
   "cell_type": "code",
   "execution_count": 5,
   "metadata": {},
   "outputs": [],
   "source": [
    "model = Model(device='cpu', \n",
    "              epochs=1, \n",
    "              save_per_epoch='none', \n",
    "              img_height=256, \n",
    "              img_width=512, \n",
    "              model_path='output_model', \n",
    "              disp_path='output_disp')"
   ]
  },
  {
   "cell_type": "code",
   "execution_count": 6,
   "metadata": {},
   "outputs": [
    {
     "name": "stderr",
     "output_type": "stream",
     "text": [
      "/Users/kcai/opt/anaconda3/lib/python3.8/site-packages/torch/nn/functional.py:3385: UserWarning: Default grid_sample and affine_grid behavior has changed to align_corners=False since 1.3.0. Please specify align_corners=True if the old behavior is desired. See the documentation of grid_sample for details.\n",
      "  warnings.warn(\"Default grid_sample and affine_grid behavior has changed \"\n"
     ]
    },
    {
     "name": "stdout",
     "output_type": "stream",
     "text": [
      "--- Epoch 0\tAverage Loss: 5.29\tTime: 0:05:55.899309\n"
     ]
    },
    {
     "data": {
      "text/plain": [
       "[5.289992671263845]"
      ]
     },
     "execution_count": 6,
     "metadata": {},
     "output_type": "execute_result"
    }
   ],
   "source": [
    "model.train(train_loader)"
   ]
  },
  {
   "cell_type": "code",
   "execution_count": 7,
   "metadata": {
    "scrolled": false
   },
   "outputs": [],
   "source": [
    "model.test(test_loader)"
   ]
  },
  {
   "cell_type": "code",
   "execution_count": null,
   "metadata": {},
   "outputs": [],
   "source": []
  }
 ],
 "metadata": {
  "colab": {
   "name": "model.ipynb",
   "provenance": []
  },
  "kernelspec": {
   "display_name": "Python 3",
   "language": "python",
   "name": "python3"
  },
  "language_info": {
   "codemirror_mode": {
    "name": "ipython",
    "version": 3
   },
   "file_extension": ".py",
   "mimetype": "text/x-python",
   "name": "python",
   "nbconvert_exporter": "python",
   "pygments_lexer": "ipython3",
   "version": "3.8.5"
  }
 },
 "nbformat": 4,
 "nbformat_minor": 1
}
