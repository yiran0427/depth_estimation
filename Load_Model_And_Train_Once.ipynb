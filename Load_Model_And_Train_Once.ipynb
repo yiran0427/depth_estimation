{
 "cells": [
  {
   "cell_type": "code",
   "execution_count": 1,
   "metadata": {},
   "outputs": [],
   "source": [
    "from mylibs.dataloader import KittiDataset\n",
    "from mylibs.transformation import ToResizeImage, ToRandomFlip, ToTensor, AugumentImagePair\n",
    "from mylibs.once_model import Once_Model\n",
    "\n",
    "import torch\n",
    "from torch.utils.data import DataLoader\n",
    "\n",
    "import os\n",
    "import numpy as np\n",
    "import random\n",
    "import skimage.transform\n",
    "import matplotlib.pyplot as plt\n",
    "import torchvision.transforms as transforms\n",
    "import torchvision.transforms.functional as tF\n",
    "from mylibs.resnet import MyNet\n",
    "\n",
    "from skimage.metrics import structural_similarity as ssim"
   ]
  },
  {
   "cell_type": "code",
   "execution_count": null,
   "metadata": {},
   "outputs": [],
   "source": [
    "train_path = os.path.join(os.getcwd(), 'drive/MyDrive/data/train')\n",
    "test_path = os.path.join(os.getcwd(), 'drive/MyDrive/data/test')"
   ]
  },
  {
   "cell_type": "code",
   "execution_count": null,
   "metadata": {},
   "outputs": [],
   "source": [
    "train_transform = transforms.Compose([\n",
    "    ToResizeImage(),\n",
    "    ToRandomFlip(),\n",
    "    ToTensor(),\n",
    "    AugumentImagePair(),\n",
    "])\n",
    "test_transform = transforms.Compose([\n",
    "    ToResizeImage(),\n",
    "    ToTensor(),\n",
    "])"
   ]
  },
  {
   "cell_type": "code",
   "execution_count": null,
   "metadata": {},
   "outputs": [],
   "source": [
    "train_set = KittiDataset(train_path, 'train', transform = train_transform)\n",
    "test_set = KittiDataset(test_path, 'test', transform = test_transform)\n",
    "\n",
    "train_loader = DataLoader(train_set, batch_size = 5, shuffle = True)\n",
    "test_loader = DataLoader(test_set, batch_size = 77, shuffle = False)"
   ]
  },
  {
   "cell_type": "code",
   "execution_count": 2,
   "metadata": {},
   "outputs": [
    {
     "name": "stdout",
     "output_type": "stream",
     "text": [
      "Directory is not empty\n"
     ]
    }
   ],
   "source": [
    "model_path = os.path.join(os.getcwd(), 'output_modell/')\n",
    "file_path = os.path.join(os.getcwd(), 'output_modell/model.pt')\n",
    "\n",
    "if len(os.listdir(model_path)) == 0:\n",
    "    Whole_model = Once_Model(train_loader=train_loader,\n",
    "                    test_loader=test_loader,\n",
    "                    device='cuda', \n",
    "                    current_model=None,\n",
    "                    img_height=256, \n",
    "                    img_width=512, \n",
    "                    model_path='output_modell', \n",
    "                    disp_path='output_disp')\n",
    "    print(\"creating new model\")\n",
    "else:    \n",
    "    Current_Model = MyNet()\n",
    "    Current_Model.load_state_dict(torch.load(file_path))\n",
    "    Whole_model = Once_Model(train_loader=train_loader,\n",
    "                    test_loader=test_loader,\n",
    "                    device='cuda', \n",
    "                    current_model=Current_Model,\n",
    "                    img_height=256, \n",
    "                    img_width=512, \n",
    "                    model_path='output_modell', \n",
    "                    disp_path='output_disp')\n",
    "    print(\"train for next epoch\")"
   ]
  },
  {
   "cell_type": "code",
   "execution_count": null,
   "metadata": {},
   "outputs": [],
   "source": [
    "loss = model.train()"
   ]
  }
 ],
 "metadata": {
  "kernelspec": {
   "display_name": "Python 3",
   "language": "python",
   "name": "python3"
  },
  "language_info": {
   "codemirror_mode": {
    "name": "ipython",
    "version": 3
   },
   "file_extension": ".py",
   "mimetype": "text/x-python",
   "name": "python",
   "nbconvert_exporter": "python",
   "pygments_lexer": "ipython3",
   "version": "3.7.6"
  }
 },
 "nbformat": 4,
 "nbformat_minor": 4
}
